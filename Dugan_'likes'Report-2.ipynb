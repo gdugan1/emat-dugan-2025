{
 "cells": [
  {
   "cell_type": "markdown",
   "id": "2e59a753-50db-4a14-b46c-f175a98f5c47",
   "metadata": {},
   "source": [
    "# 'Likes' report \n",
    "## Gabriella Dugan - September 15, 2025\n",
    "\n",
    "### Data Source\n",
    "The data is NOT my personal data, for this project I downloaded the data given to me in the 'likes' report assignment since at the time of doing this assignment my personal Instagram account is deactivated. This is NOT my personal content & interactions and will NOT be shared anywhere. \n",
    "The source of Instagram data is Meta Platforms, Inc. \n",
    "\n",
    "### Purpose of Data\n",
    "This data was created as a record of all activity on the Instagram platform. The purpose is conduct social interactions, personalize user experience & reflection, analyze behavior, target advertising, digital archiving.\n",
    "\n",
    "### Data Reliability \n",
    "Data may be reliable as it is downloaded straight from Instagram servers, shows real interactive users have, recorded timestamps, comments, usernames, etc.. \n",
    "\n",
    "### Data Unreliability \n",
    "Data may be unreliable as there may be incomplete or deleted data, format misinterpretations, and lack of context of content."
   ]
  },
  {
   "cell_type": "markdown",
   "id": "f4e7f80e-47d0-430f-9398-ab2fa9bb4929",
   "metadata": {},
   "source": [
    "### Import statements"
   ]
  },
  {
   "cell_type": "code",
   "execution_count": null,
   "id": "d989f78c-2dec-4e3a-887d-e80828540a66",
   "metadata": {},
   "outputs": [],
   "source": [
    "import json \n",
    "import pandas as pd"
   ]
  },
  {
   "cell_type": "markdown",
   "id": "86869dfe-a5d6-4d61-8c42-3d802e0c0856",
   "metadata": {},
   "source": [
    "### Load JSON "
   ]
  },
  {
   "cell_type": "code",
   "execution_count": 6,
   "id": "61a32c07-dcb0-4b4a-a5a9-00f305681852",
   "metadata": {},
   "outputs": [],
   "source": [
    "path = r'likes/liked_posts-1.json'\n",
    "with open(path) as j:\n",
    "    data = json.load(j)"
   ]
  },
  {
   "cell_type": "markdown",
   "id": "38ef4167-9179-490e-863b-157b7fb52477",
   "metadata": {},
   "source": [
    "### Explore Data"
   ]
  },
  {
   "cell_type": "code",
   "execution_count": 10,
   "id": "946a88fd-4453-4c6e-941e-d19b6cb44bbd",
   "metadata": {},
   "outputs": [
    {
     "data": {
      "text/plain": [
       "dict_keys(['likes_media_likes'])"
      ]
     },
     "execution_count": 10,
     "metadata": {},
     "output_type": "execute_result"
    }
   ],
   "source": [
    "data.keys()"
   ]
  },
  {
   "cell_type": "code",
   "execution_count": 21,
   "id": "53c87726-4bb9-4b6b-9a8a-d7eb2240748b",
   "metadata": {},
   "outputs": [
    {
     "data": {
      "text/plain": [
       "{'title': 'kabirbhatiatime',\n",
       " 'string_list_data': [{'href': 'https://www.instagram.com/p/DAUX-c9p_5K/',\n",
       "   'value': 'ð\\x9f\\x91\\x8d',\n",
       "   'timestamp': 1727222908}]}"
      ]
     },
     "execution_count": 21,
     "metadata": {},
     "output_type": "execute_result"
    }
   ],
   "source": [
    "data['likes_media_likes'][13]"
   ]
  },
  {
   "cell_type": "markdown",
   "id": "0dbdb8bf-30a7-492c-a909-61ff99b44ab3",
   "metadata": {},
   "source": [
    "### Data to pandas dataframe"
   ]
  },
  {
   "cell_type": "code",
   "execution_count": 17,
   "id": "823378e9-fcf9-45ee-b522-baa2cb5fa0ea",
   "metadata": {},
   "outputs": [
    {
     "data": {
      "text/html": [
       "<div>\n",
       "<style scoped>\n",
       "    .dataframe tbody tr th:only-of-type {\n",
       "        vertical-align: middle;\n",
       "    }\n",
       "\n",
       "    .dataframe tbody tr th {\n",
       "        vertical-align: top;\n",
       "    }\n",
       "\n",
       "    .dataframe thead th {\n",
       "        text-align: right;\n",
       "    }\n",
       "</style>\n",
       "<table border=\"1\" class=\"dataframe\">\n",
       "  <thead>\n",
       "    <tr style=\"text-align: right;\">\n",
       "      <th></th>\n",
       "      <th>title</th>\n",
       "      <th>string_list_data</th>\n",
       "    </tr>\n",
       "  </thead>\n",
       "  <tbody>\n",
       "    <tr>\n",
       "      <th>0</th>\n",
       "      <td>philzphotos</td>\n",
       "      <td>[{'href': 'https://www.instagram.com/p/DNbPB16...</td>\n",
       "    </tr>\n",
       "    <tr>\n",
       "      <th>1</th>\n",
       "      <td>weave_n_wonder</td>\n",
       "      <td>[{'href': 'https://www.instagram.com/reel/DNp7...</td>\n",
       "    </tr>\n",
       "    <tr>\n",
       "      <th>2</th>\n",
       "      <td>weave_n_wonder</td>\n",
       "      <td>[{'href': 'https://www.instagram.com/reel/DNoJ...</td>\n",
       "    </tr>\n",
       "    <tr>\n",
       "      <th>3</th>\n",
       "      <td>philzphotos</td>\n",
       "      <td>[{'href': 'https://www.instagram.com/p/DNQjPMY...</td>\n",
       "    </tr>\n",
       "    <tr>\n",
       "      <th>4</th>\n",
       "      <td>weave_n_wonder</td>\n",
       "      <td>[{'href': 'https://www.instagram.com/p/DMiZKYt...</td>\n",
       "    </tr>\n",
       "    <tr>\n",
       "      <th>5</th>\n",
       "      <td>nidhigoels</td>\n",
       "      <td>[{'href': 'https://www.instagram.com/p/DJiamRA...</td>\n",
       "    </tr>\n",
       "    <tr>\n",
       "      <th>6</th>\n",
       "      <td>somosreedutt</td>\n",
       "      <td>[{'href': 'https://www.instagram.com/p/DJ7N-GJ...</td>\n",
       "    </tr>\n",
       "    <tr>\n",
       "      <th>7</th>\n",
       "      <td>philzphotos</td>\n",
       "      <td>[{'href': 'https://www.instagram.com/p/DJzVepW...</td>\n",
       "    </tr>\n",
       "    <tr>\n",
       "      <th>8</th>\n",
       "      <td>philzphotos</td>\n",
       "      <td>[{'href': 'https://www.instagram.com/p/DH9un-F...</td>\n",
       "    </tr>\n",
       "    <tr>\n",
       "      <th>9</th>\n",
       "      <td>philzphotos</td>\n",
       "      <td>[{'href': 'https://www.instagram.com/p/DHUig05...</td>\n",
       "    </tr>\n",
       "    <tr>\n",
       "      <th>10</th>\n",
       "      <td>urjya.co</td>\n",
       "      <td>[{'href': 'https://www.instagram.com/reel/DCVz...</td>\n",
       "    </tr>\n",
       "    <tr>\n",
       "      <th>11</th>\n",
       "      <td>mauliksuchde</td>\n",
       "      <td>[{'href': 'https://www.instagram.com/reel/DAep...</td>\n",
       "    </tr>\n",
       "    <tr>\n",
       "      <th>12</th>\n",
       "      <td>philzphotos</td>\n",
       "      <td>[{'href': 'https://www.instagram.com/reel/DAEJ...</td>\n",
       "    </tr>\n",
       "    <tr>\n",
       "      <th>13</th>\n",
       "      <td>kabirbhatiatime</td>\n",
       "      <td>[{'href': 'https://www.instagram.com/p/DAUX-c9...</td>\n",
       "    </tr>\n",
       "  </tbody>\n",
       "</table>\n",
       "</div>"
      ],
      "text/plain": [
       "              title                                   string_list_data\n",
       "0       philzphotos  [{'href': 'https://www.instagram.com/p/DNbPB16...\n",
       "1    weave_n_wonder  [{'href': 'https://www.instagram.com/reel/DNp7...\n",
       "2    weave_n_wonder  [{'href': 'https://www.instagram.com/reel/DNoJ...\n",
       "3       philzphotos  [{'href': 'https://www.instagram.com/p/DNQjPMY...\n",
       "4    weave_n_wonder  [{'href': 'https://www.instagram.com/p/DMiZKYt...\n",
       "5        nidhigoels  [{'href': 'https://www.instagram.com/p/DJiamRA...\n",
       "6      somosreedutt  [{'href': 'https://www.instagram.com/p/DJ7N-GJ...\n",
       "7       philzphotos  [{'href': 'https://www.instagram.com/p/DJzVepW...\n",
       "8       philzphotos  [{'href': 'https://www.instagram.com/p/DH9un-F...\n",
       "9       philzphotos  [{'href': 'https://www.instagram.com/p/DHUig05...\n",
       "10         urjya.co  [{'href': 'https://www.instagram.com/reel/DCVz...\n",
       "11     mauliksuchde  [{'href': 'https://www.instagram.com/reel/DAep...\n",
       "12      philzphotos  [{'href': 'https://www.instagram.com/reel/DAEJ...\n",
       "13  kabirbhatiatime  [{'href': 'https://www.instagram.com/p/DAUX-c9..."
      ]
     },
     "execution_count": 17,
     "metadata": {},
     "output_type": "execute_result"
    }
   ],
   "source": [
    "\n",
    "data_df = pd.DataFrame(data['likes_media_likes'])\n",
    "data_df.head(14)\n"
   ]
  },
  {
   "cell_type": "markdown",
   "id": "6d3e3546-ce66-4bc3-b24e-2bca8b127880",
   "metadata": {},
   "source": [
    "### Tidy Data"
   ]
  },
  {
   "cell_type": "code",
   "execution_count": 28,
   "id": "e0973f98-406a-42e2-9bb7-06b4b8e1d6c9",
   "metadata": {},
   "outputs": [
    {
     "data": {
      "text/html": [
       "<div>\n",
       "<style scoped>\n",
       "    .dataframe tbody tr th:only-of-type {\n",
       "        vertical-align: middle;\n",
       "    }\n",
       "\n",
       "    .dataframe tbody tr th {\n",
       "        vertical-align: top;\n",
       "    }\n",
       "\n",
       "    .dataframe thead th {\n",
       "        text-align: right;\n",
       "    }\n",
       "</style>\n",
       "<table border=\"1\" class=\"dataframe\">\n",
       "  <thead>\n",
       "    <tr style=\"text-align: right;\">\n",
       "      <th></th>\n",
       "      <th>title</th>\n",
       "      <th>like_timestamp</th>\n",
       "    </tr>\n",
       "  </thead>\n",
       "  <tbody>\n",
       "    <tr>\n",
       "      <th>0</th>\n",
       "      <td>philzphotos</td>\n",
       "      <td>1755861630</td>\n",
       "    </tr>\n",
       "    <tr>\n",
       "      <th>1</th>\n",
       "      <td>weave_n_wonder</td>\n",
       "      <td>1755861571</td>\n",
       "    </tr>\n",
       "    <tr>\n",
       "      <th>2</th>\n",
       "      <td>weave_n_wonder</td>\n",
       "      <td>1755861568</td>\n",
       "    </tr>\n",
       "    <tr>\n",
       "      <th>3</th>\n",
       "      <td>philzphotos</td>\n",
       "      <td>1755173316</td>\n",
       "    </tr>\n",
       "    <tr>\n",
       "      <th>4</th>\n",
       "      <td>weave_n_wonder</td>\n",
       "      <td>1753462673</td>\n",
       "    </tr>\n",
       "    <tr>\n",
       "      <th>5</th>\n",
       "      <td>nidhigoels</td>\n",
       "      <td>1748178260</td>\n",
       "    </tr>\n",
       "    <tr>\n",
       "      <th>6</th>\n",
       "      <td>somosreedutt</td>\n",
       "      <td>1748178257</td>\n",
       "    </tr>\n",
       "    <tr>\n",
       "      <th>7</th>\n",
       "      <td>philzphotos</td>\n",
       "      <td>1748178213</td>\n",
       "    </tr>\n",
       "    <tr>\n",
       "      <th>8</th>\n",
       "      <td>philzphotos</td>\n",
       "      <td>1744057150</td>\n",
       "    </tr>\n",
       "    <tr>\n",
       "      <th>9</th>\n",
       "      <td>philzphotos</td>\n",
       "      <td>1743338308</td>\n",
       "    </tr>\n",
       "    <tr>\n",
       "      <th>10</th>\n",
       "      <td>urjya.co</td>\n",
       "      <td>1732683813</td>\n",
       "    </tr>\n",
       "    <tr>\n",
       "      <th>11</th>\n",
       "      <td>mauliksuchde</td>\n",
       "      <td>1727870969</td>\n",
       "    </tr>\n",
       "    <tr>\n",
       "      <th>12</th>\n",
       "      <td>philzphotos</td>\n",
       "      <td>1727223009</td>\n",
       "    </tr>\n",
       "    <tr>\n",
       "      <th>13</th>\n",
       "      <td>kabirbhatiatime</td>\n",
       "      <td>1727222908</td>\n",
       "    </tr>\n",
       "  </tbody>\n",
       "</table>\n",
       "</div>"
      ],
      "text/plain": [
       "              title  like_timestamp\n",
       "0       philzphotos      1755861630\n",
       "1    weave_n_wonder      1755861571\n",
       "2    weave_n_wonder      1755861568\n",
       "3       philzphotos      1755173316\n",
       "4    weave_n_wonder      1753462673\n",
       "5        nidhigoels      1748178260\n",
       "6      somosreedutt      1748178257\n",
       "7       philzphotos      1748178213\n",
       "8       philzphotos      1744057150\n",
       "9       philzphotos      1743338308\n",
       "10         urjya.co      1732683813\n",
       "11     mauliksuchde      1727870969\n",
       "12      philzphotos      1727223009\n",
       "13  kabirbhatiatime      1727222908"
      ]
     },
     "execution_count": 28,
     "metadata": {},
     "output_type": "execute_result"
    }
   ],
   "source": [
    "data_df['like_timestamp'] = data_df['string_list_data'].apply(lambda x:x[0]['timestamp'])\n",
    "data_df[['title', 'like_timestamp']].head(14)"
   ]
  },
  {
   "cell_type": "code",
   "execution_count": 34,
   "id": "ae7ef7b1-218e-4320-a000-de2e3017606a",
   "metadata": {},
   "outputs": [
    {
     "data": {
      "text/html": [
       "<div>\n",
       "<style scoped>\n",
       "    .dataframe tbody tr th:only-of-type {\n",
       "        vertical-align: middle;\n",
       "    }\n",
       "\n",
       "    .dataframe tbody tr th {\n",
       "        vertical-align: top;\n",
       "    }\n",
       "\n",
       "    .dataframe thead th {\n",
       "        text-align: right;\n",
       "    }\n",
       "</style>\n",
       "<table border=\"1\" class=\"dataframe\">\n",
       "  <thead>\n",
       "    <tr style=\"text-align: right;\">\n",
       "      <th></th>\n",
       "      <th>title</th>\n",
       "      <th>like_count</th>\n",
       "    </tr>\n",
       "  </thead>\n",
       "  <tbody>\n",
       "    <tr>\n",
       "      <th>3</th>\n",
       "      <td>philzphotos</td>\n",
       "      <td>6</td>\n",
       "    </tr>\n",
       "    <tr>\n",
       "      <th>6</th>\n",
       "      <td>weave_n_wonder</td>\n",
       "      <td>3</td>\n",
       "    </tr>\n",
       "    <tr>\n",
       "      <th>0</th>\n",
       "      <td>kabirbhatiatime</td>\n",
       "      <td>1</td>\n",
       "    </tr>\n",
       "    <tr>\n",
       "      <th>1</th>\n",
       "      <td>mauliksuchde</td>\n",
       "      <td>1</td>\n",
       "    </tr>\n",
       "    <tr>\n",
       "      <th>2</th>\n",
       "      <td>nidhigoels</td>\n",
       "      <td>1</td>\n",
       "    </tr>\n",
       "    <tr>\n",
       "      <th>4</th>\n",
       "      <td>somosreedutt</td>\n",
       "      <td>1</td>\n",
       "    </tr>\n",
       "    <tr>\n",
       "      <th>5</th>\n",
       "      <td>urjya.co</td>\n",
       "      <td>1</td>\n",
       "    </tr>\n",
       "  </tbody>\n",
       "</table>\n",
       "</div>"
      ],
      "text/plain": [
       "             title  like_count\n",
       "3      philzphotos           6\n",
       "6   weave_n_wonder           3\n",
       "0  kabirbhatiatime           1\n",
       "1     mauliksuchde           1\n",
       "2       nidhigoels           1\n",
       "4     somosreedutt           1\n",
       "5         urjya.co           1"
      ]
     },
     "execution_count": 34,
     "metadata": {},
     "output_type": "execute_result"
    }
   ],
   "source": [
    "likes_by_account = data_df.groupby('title')['like_timestamp'].count()\n",
    "\n",
    "likes_by_account = likes_by_account.reset_index().rename(columns={'like_timestamp': 'like_count'})\n",
    "likes_by_account = likes_by_account.sort_values(by='like_count', ascending=False)\n",
    "\n",
    "likes_by_account.head(14)\n"
   ]
  },
  {
   "cell_type": "markdown",
   "id": "05edfa44-a0f8-4819-92ee-22eda56cd474",
   "metadata": {},
   "source": [
    "# Personal Facebook Hypothesis\n",
    "I receive more Facebook messages from friends on the weekends than the weekdays.\n",
    "\n",
    "### Theoretical Explanation\n",
    "Typically on the weekends people usually have more free time and participate in social activites. This fits with the social interaction theory which proposes communications from peers tend to increase during leisure periods. \n",
    "\n",
    "### Statistical Explanation\n",
    "This hypothesis can be measured by testing the timestamps of messages received in the Facebook message data. The dependant variable would be the Day Type (weekday vs weekend) The dependant variable would be the number of messages received.\n",
    "\n",
    "### Json File\n",
    "The your_in_app_messages_interactions.json will be useful as I think it will contain message content and timestamps of messages to test my hypothesis. "
   ]
  },
  {
   "cell_type": "markdown",
   "id": "8452378f-b0a6-4ca3-b279-6aebdede89ca",
   "metadata": {},
   "source": [
    "### Import statements"
   ]
  },
  {
   "cell_type": "code",
   "execution_count": 26,
   "id": "c9151c17-70c3-4e72-80ec-14391c10d56c",
   "metadata": {},
   "outputs": [],
   "source": [
    "import json\n",
    "import pandas as pd "
   ]
  },
  {
   "cell_type": "markdown",
   "id": "dc3d3d61-c7c4-43c9-878c-cd51a8984ed3",
   "metadata": {},
   "source": [
    "### Load JSON"
   ]
  },
  {
   "cell_type": "code",
   "execution_count": 27,
   "id": "1abc8db7-ac36-45bf-bfff-88daaa350c57",
   "metadata": {},
   "outputs": [],
   "source": [
    "path = r'messages/your_in-app_messages_interactions.json'\n",
    "with open(path) as j:\n",
    "    data = json.load(j)"
   ]
  },
  {
   "cell_type": "markdown",
   "id": "d9c13bc1-11e5-4ab7-9cac-261a43a1aeba",
   "metadata": {},
   "source": [
    "### Explore data"
   ]
  },
  {
   "cell_type": "code",
   "execution_count": 29,
   "id": "6ba5498b-8d1f-4560-87fa-ac946f674ab4",
   "metadata": {},
   "outputs": [
    {
     "data": {
      "text/plain": [
       "list"
      ]
     },
     "execution_count": 29,
     "metadata": {},
     "output_type": "execute_result"
    }
   ],
   "source": [
    "type(data)"
   ]
  },
  {
   "cell_type": "code",
   "execution_count": 33,
   "id": "d93afe61-2cd0-485f-9ae3-e4a134ebacbb",
   "metadata": {},
   "outputs": [
    {
     "name": "stdout",
     "output_type": "stream",
     "text": [
      "<class 'list'>\n",
      "9\n",
      "<class 'dict'>\n",
      "dict_keys(['timestamp', 'media', 'label_values', 'fbid'])\n"
     ]
    }
   ],
   "source": [
    "print(type(data))       \n",
    "print(len(data))        \n",
    "print(type(data[0]))    \n",
    "print(data[0].keys())   "
   ]
  },
  {
   "cell_type": "code",
   "execution_count": 36,
   "id": "9ef5ba31-6728-4f7a-9bab-c781f7e6aefd",
   "metadata": {},
   "outputs": [
    {
     "data": {
      "text/html": [
       "<div>\n",
       "<style scoped>\n",
       "    .dataframe tbody tr th:only-of-type {\n",
       "        vertical-align: middle;\n",
       "    }\n",
       "\n",
       "    .dataframe tbody tr th {\n",
       "        vertical-align: top;\n",
       "    }\n",
       "\n",
       "    .dataframe thead th {\n",
       "        text-align: right;\n",
       "    }\n",
       "</style>\n",
       "<table border=\"1\" class=\"dataframe\">\n",
       "  <thead>\n",
       "    <tr style=\"text-align: right;\">\n",
       "      <th></th>\n",
       "      <th>timestamp</th>\n",
       "      <th>media</th>\n",
       "      <th>label_values</th>\n",
       "      <th>fbid</th>\n",
       "    </tr>\n",
       "  </thead>\n",
       "  <tbody>\n",
       "    <tr>\n",
       "      <th>0</th>\n",
       "      <td>1732766757</td>\n",
       "      <td>[]</td>\n",
       "      <td>[{'label': 'Message', 'value': 'In-app Message...</td>\n",
       "      <td>1105997544112022:100093100339566:pri</td>\n",
       "    </tr>\n",
       "    <tr>\n",
       "      <th>1</th>\n",
       "      <td>1732557630</td>\n",
       "      <td>[]</td>\n",
       "      <td>[{'label': 'Message', 'value': 'In-app Message...</td>\n",
       "      <td>1059482728430956:100093100339566:pri</td>\n",
       "    </tr>\n",
       "    <tr>\n",
       "      <th>2</th>\n",
       "      <td>1732557634</td>\n",
       "      <td>[]</td>\n",
       "      <td>[{'label': 'Message', 'value': 'In-app Message...</td>\n",
       "      <td>6379729178797653:100093100339566:pri</td>\n",
       "    </tr>\n",
       "    <tr>\n",
       "      <th>3</th>\n",
       "      <td>1757538175</td>\n",
       "      <td>[]</td>\n",
       "      <td>[{'label': 'Message', 'value': 'In-app Message...</td>\n",
       "      <td>1518680112159198:100093100339566:pri</td>\n",
       "    </tr>\n",
       "    <tr>\n",
       "      <th>4</th>\n",
       "      <td>1732557646</td>\n",
       "      <td>[]</td>\n",
       "      <td>[{'label': 'Message', 'value': 'In-app Message...</td>\n",
       "      <td>888284166283159:100093100339566:sec</td>\n",
       "    </tr>\n",
       "  </tbody>\n",
       "</table>\n",
       "</div>"
      ],
      "text/plain": [
       "    timestamp media                                       label_values  \\\n",
       "0  1732766757    []  [{'label': 'Message', 'value': 'In-app Message...   \n",
       "1  1732557630    []  [{'label': 'Message', 'value': 'In-app Message...   \n",
       "2  1732557634    []  [{'label': 'Message', 'value': 'In-app Message...   \n",
       "3  1757538175    []  [{'label': 'Message', 'value': 'In-app Message...   \n",
       "4  1732557646    []  [{'label': 'Message', 'value': 'In-app Message...   \n",
       "\n",
       "                                   fbid  \n",
       "0  1105997544112022:100093100339566:pri  \n",
       "1  1059482728430956:100093100339566:pri  \n",
       "2  6379729178797653:100093100339566:pri  \n",
       "3  1518680112159198:100093100339566:pri  \n",
       "4   888284166283159:100093100339566:sec  "
      ]
     },
     "execution_count": 36,
     "metadata": {},
     "output_type": "execute_result"
    }
   ],
   "source": [
    "df = pd.DataFrame(data)\n",
    "df.head()"
   ]
  },
  {
   "cell_type": "code",
   "execution_count": 45,
   "id": "b6dbc886-780e-4700-be5e-1b72a566c185",
   "metadata": {},
   "outputs": [
    {
     "data": {
      "text/html": [
       "<div>\n",
       "<style scoped>\n",
       "    .dataframe tbody tr th:only-of-type {\n",
       "        vertical-align: middle;\n",
       "    }\n",
       "\n",
       "    .dataframe tbody tr th {\n",
       "        vertical-align: top;\n",
       "    }\n",
       "\n",
       "    .dataframe thead th {\n",
       "        text-align: right;\n",
       "    }\n",
       "</style>\n",
       "<table border=\"1\" class=\"dataframe\">\n",
       "  <thead>\n",
       "    <tr style=\"text-align: right;\">\n",
       "      <th></th>\n",
       "      <th>datetime</th>\n",
       "      <th>day_of_week</th>\n",
       "      <th>day_type</th>\n",
       "    </tr>\n",
       "  </thead>\n",
       "  <tbody>\n",
       "    <tr>\n",
       "      <th>0</th>\n",
       "      <td>2024-11-28 04:05:57</td>\n",
       "      <td>3</td>\n",
       "      <td>Weekday</td>\n",
       "    </tr>\n",
       "    <tr>\n",
       "      <th>1</th>\n",
       "      <td>2024-11-25 18:00:30</td>\n",
       "      <td>0</td>\n",
       "      <td>Weekday</td>\n",
       "    </tr>\n",
       "    <tr>\n",
       "      <th>2</th>\n",
       "      <td>2024-11-25 18:00:34</td>\n",
       "      <td>0</td>\n",
       "      <td>Weekday</td>\n",
       "    </tr>\n",
       "    <tr>\n",
       "      <th>3</th>\n",
       "      <td>2025-09-10 21:02:55</td>\n",
       "      <td>2</td>\n",
       "      <td>Weekday</td>\n",
       "    </tr>\n",
       "    <tr>\n",
       "      <th>4</th>\n",
       "      <td>2024-11-25 18:00:46</td>\n",
       "      <td>0</td>\n",
       "      <td>Weekday</td>\n",
       "    </tr>\n",
       "    <tr>\n",
       "      <th>5</th>\n",
       "      <td>2025-08-25 18:22:08</td>\n",
       "      <td>0</td>\n",
       "      <td>Weekday</td>\n",
       "    </tr>\n",
       "    <tr>\n",
       "      <th>6</th>\n",
       "      <td>2023-06-04 16:49:42</td>\n",
       "      <td>6</td>\n",
       "      <td>Weekend</td>\n",
       "    </tr>\n",
       "    <tr>\n",
       "      <th>7</th>\n",
       "      <td>2024-11-25 18:00:51</td>\n",
       "      <td>0</td>\n",
       "      <td>Weekday</td>\n",
       "    </tr>\n",
       "    <tr>\n",
       "      <th>8</th>\n",
       "      <td>2025-03-22 15:48:06</td>\n",
       "      <td>5</td>\n",
       "      <td>Weekend</td>\n",
       "    </tr>\n",
       "  </tbody>\n",
       "</table>\n",
       "</div>"
      ],
      "text/plain": [
       "             datetime  day_of_week day_type\n",
       "0 2024-11-28 04:05:57            3  Weekday\n",
       "1 2024-11-25 18:00:30            0  Weekday\n",
       "2 2024-11-25 18:00:34            0  Weekday\n",
       "3 2025-09-10 21:02:55            2  Weekday\n",
       "4 2024-11-25 18:00:46            0  Weekday\n",
       "5 2025-08-25 18:22:08            0  Weekday\n",
       "6 2023-06-04 16:49:42            6  Weekend\n",
       "7 2024-11-25 18:00:51            0  Weekday\n",
       "8 2025-03-22 15:48:06            5  Weekend"
      ]
     },
     "execution_count": 45,
     "metadata": {},
     "output_type": "execute_result"
    }
   ],
   "source": [
    "df['datetime'] = pd.to_datetime(df['timestamp'], unit='s')\n",
    "\n",
    "# Extract day of week (0=Monday, 6=Sunday)\n",
    "df['day_of_week'] = df['datetime'].dt.dayofweek\n",
    "\n",
    "# Optional: Create a 'weekday_or_weekend' column\n",
    "df['day_type'] = df['day_of_week'].apply(lambda x: 'Weekend' if x >= 5 else 'Weekday')\n",
    "\n",
    "df[['datetime', 'day_of_week', 'day_type']].head(10)"
   ]
  },
  {
   "cell_type": "code",
   "execution_count": 49,
   "id": "510dfbfc-2a87-489f-b8de-62180a86e29b",
   "metadata": {},
   "outputs": [
    {
     "name": "stdout",
     "output_type": "stream",
     "text": [
      "day_type\n",
      "Weekday    7\n",
      "Weekend    2\n",
      "Name: count, dtype: int64\n"
     ]
    }
   ],
   "source": [
    "message_counts = df['day_type'].value_counts()\n",
    "print(message_counts)"
   ]
  },
  {
   "cell_type": "code",
   "execution_count": 50,
   "id": "28704b3e-407c-4439-9045-2b0aa5de4b73",
   "metadata": {},
   "outputs": [
    {
     "data": {
      "image/png": "[encoded data removed]",
      "text/plain": [
       "<Figure size 640x480 with 1 Axes>"
      ]
     },
     "metadata": {},
     "output_type": "display_data"
    }
   ],
   "source": [
    "import matplotlib.pyplot as plt\n",
    "\n",
    "message_counts.plot(kind='bar', title='Messages: Weekday vs Weekend')\n",
    "plt.ylabel('Number of Messages')\n",
    "plt.xlabel('Day Type')\n",
    "plt.xticks(rotation=0)\n",
    "plt.show()"
   ]
  },
  {
   "cell_type": "markdown",
   "id": "0322212c-2cf6-4a9b-a794-e299ac49de3b",
   "metadata": {},
   "source": [
    "# Interpretation\n",
    "\n",
    "## Data Representation\n",
    "The data above shows in-app Facebook message interactions.\n",
    "Timestamp: Time when the message was received\n",
    "Media: In this case empty but are any media attachments\n",
    "Label_values: Type and value of the message data\n",
    "Fbid: Facebook ID of the sender\n",
    "\n",
    "## Tidy Principles\n",
    "I think it mostly meets the principles, as rows and columns showed observation and variables.\n",
    "\n",
    "## Testing Hypothesis\n",
    "The data above can be used to test my hypothesis of 'I receive more Facebook messages from friends on the weekends than the weekdays.'\n",
    "\n",
    "In this case, my hypothesis was wrong as I actually get more messages sent to me during the weekdays as compared to weekends."
   ]
  },
  {
   "cell_type": "code",
   "execution_count": null,
   "id": "b1e3d81a-abb1-48b3-9f39-518f8189857d",
   "metadata": {},
   "outputs": [],
   "source": []
  }
 ],
 "metadata": {
  "kernelspec": {
   "display_name": "Python 3 (ipykernel)",
   "language": "python",
   "name": "python3"
  },
  "language_info": {
   "codemirror_mode": {
    "name": "ipython",
    "version": 3
   },
   "file_extension": ".py",
   "mimetype": "text/x-python",
   "name": "python",
   "nbconvert_exporter": "python",
   "pygments_lexer": "ipython3",
   "version": "3.13.5"
  }
 },
 "nbformat": 4,
 "nbformat_minor": 5
}
