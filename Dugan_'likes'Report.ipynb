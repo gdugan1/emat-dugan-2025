{
 "cells": [
  {
   "cell_type": "markdown",
   "id": "2e59a753-50db-4a14-b46c-f175a98f5c47",
   "metadata": {},
   "source": [
    "# Gabriella Dugan - 'likes' report \n",
    "## September 15, 2025\n",
    "\n",
    "## Data Source\n",
    "The data is NOT my personal data, for this project I downloaded the data given to me in the 'likes' report assignment since at the time of doing this assignment my personal Instagram account is deactivated. This is NOT my personal content & interactions and will NOT be shared anywhere. \n",
    "The source of Instagram data is Meta Platforms, Inc. \n",
    "\n",
    "## Purpose of Data\n",
    "This data was created as a record of all activity on the Instagram platform. The purpose is conduct social interactions, personalize user experience & reflection, analyze behavior, target advertising, digital archiving.\n",
    "\n",
    "## Data Reliability \n",
    "Data may be reliable as it is downloaded straight from Instagram servers, shows real interactive users have, recorded timestamps, comments, usernames, etc.. \n",
    "\n",
    "## Data Unreliability \n",
    "Data may be unreliable as there may be incomplete or deleted data, format misinterpretations, and lack of context of content."
   ]
  },
  {
   "cell_type": "markdown",
   "id": "f4e7f80e-47d0-430f-9398-ab2fa9bb4929",
   "metadata": {},
   "source": [
    "### Import statements"
   ]
  },
  {
   "cell_type": "code",
   "execution_count": null,
   "id": "d989f78c-2dec-4e3a-887d-e80828540a66",
   "metadata": {},
   "outputs": [],
   "source": [
    "import json \n",
    "import pandas as pd"
   ]
  },
  {
   "cell_type": "markdown",
   "id": "86869dfe-a5d6-4d61-8c42-3d802e0c0856",
   "metadata": {},
   "source": [
    "### Load chessbud data"
   ]
  },
  {
   "cell_type": "code",
   "execution_count": 6,
   "id": "61a32c07-dcb0-4b4a-a5a9-00f305681852",
   "metadata": {},
   "outputs": [],
   "source": [
    "path = r'likes/liked_posts-1.json'\n",
    "with open(path) as j:\n",
    "    data = json.load(j)"
   ]
  },
  {
   "cell_type": "markdown",
   "id": "38ef4167-9179-490e-863b-157b7fb52477",
   "metadata": {},
   "source": [
    "### Explore Data"
   ]
  },
  {
   "cell_type": "code",
   "execution_count": 10,
   "id": "946a88fd-4453-4c6e-941e-d19b6cb44bbd",
   "metadata": {},
   "outputs": [
    {
     "data": {
      "text/plain": [
       "dict_keys(['likes_media_likes'])"
      ]
     },
     "execution_count": 10,
     "metadata": {},
     "output_type": "execute_result"
    }
   ],
   "source": [
    "data.keys()"
   ]
  },
  {
   "cell_type": "code",
   "execution_count": 21,
   "id": "53c87726-4bb9-4b6b-9a8a-d7eb2240748b",
   "metadata": {},
   "outputs": [
    {
     "data": {
      "text/plain": [
       "{'title': 'kabirbhatiatime',\n",
       " 'string_list_data': [{'href': 'https://www.instagram.com/p/DAUX-c9p_5K/',\n",
       "   'value': 'ð\\x9f\\x91\\x8d',\n",
       "   'timestamp': 1727222908}]}"
      ]
     },
     "execution_count": 21,
     "metadata": {},
     "output_type": "execute_result"
    }
   ],
   "source": [
    "data['likes_media_likes'][13]"
   ]
  },
  {
   "cell_type": "markdown",
   "id": "0dbdb8bf-30a7-492c-a909-61ff99b44ab3",
   "metadata": {},
   "source": [
    "### Data to pandas dataframe"
   ]
  },
  {
   "cell_type": "code",
   "execution_count": 17,
   "id": "823378e9-fcf9-45ee-b522-baa2cb5fa0ea",
   "metadata": {},
   "outputs": [
    {
     "data": {
      "text/html": [
       "<div>\n",
       "<style scoped>\n",
       "    .dataframe tbody tr th:only-of-type {\n",
       "        vertical-align: middle;\n",
       "    }\n",
       "\n",
       "    .dataframe tbody tr th {\n",
       "        vertical-align: top;\n",
       "    }\n",
       "\n",
       "    .dataframe thead th {\n",
       "        text-align: right;\n",
       "    }\n",
       "</style>\n",
       "<table border=\"1\" class=\"dataframe\">\n",
       "  <thead>\n",
       "    <tr style=\"text-align: right;\">\n",
       "      <th></th>\n",
       "      <th>title</th>\n",
       "      <th>string_list_data</th>\n",
       "    </tr>\n",
       "  </thead>\n",
       "  <tbody>\n",
       "    <tr>\n",
       "      <th>0</th>\n",
       "      <td>philzphotos</td>\n",
       "      <td>[{'href': 'https://www.instagram.com/p/DNbPB16...</td>\n",
       "    </tr>\n",
       "    <tr>\n",
       "      <th>1</th>\n",
       "      <td>weave_n_wonder</td>\n",
       "      <td>[{'href': 'https://www.instagram.com/reel/DNp7...</td>\n",
       "    </tr>\n",
       "    <tr>\n",
       "      <th>2</th>\n",
       "      <td>weave_n_wonder</td>\n",
       "      <td>[{'href': 'https://www.instagram.com/reel/DNoJ...</td>\n",
       "    </tr>\n",
       "    <tr>\n",
       "      <th>3</th>\n",
       "      <td>philzphotos</td>\n",
       "      <td>[{'href': 'https://www.instagram.com/p/DNQjPMY...</td>\n",
       "    </tr>\n",
       "    <tr>\n",
       "      <th>4</th>\n",
       "      <td>weave_n_wonder</td>\n",
       "      <td>[{'href': 'https://www.instagram.com/p/DMiZKYt...</td>\n",
       "    </tr>\n",
       "    <tr>\n",
       "      <th>5</th>\n",
       "      <td>nidhigoels</td>\n",
       "      <td>[{'href': 'https://www.instagram.com/p/DJiamRA...</td>\n",
       "    </tr>\n",
       "    <tr>\n",
       "      <th>6</th>\n",
       "      <td>somosreedutt</td>\n",
       "      <td>[{'href': 'https://www.instagram.com/p/DJ7N-GJ...</td>\n",
       "    </tr>\n",
       "    <tr>\n",
       "      <th>7</th>\n",
       "      <td>philzphotos</td>\n",
       "      <td>[{'href': 'https://www.instagram.com/p/DJzVepW...</td>\n",
       "    </tr>\n",
       "    <tr>\n",
       "      <th>8</th>\n",
       "      <td>philzphotos</td>\n",
       "      <td>[{'href': 'https://www.instagram.com/p/DH9un-F...</td>\n",
       "    </tr>\n",
       "    <tr>\n",
       "      <th>9</th>\n",
       "      <td>philzphotos</td>\n",
       "      <td>[{'href': 'https://www.instagram.com/p/DHUig05...</td>\n",
       "    </tr>\n",
       "    <tr>\n",
       "      <th>10</th>\n",
       "      <td>urjya.co</td>\n",
       "      <td>[{'href': 'https://www.instagram.com/reel/DCVz...</td>\n",
       "    </tr>\n",
       "    <tr>\n",
       "      <th>11</th>\n",
       "      <td>mauliksuchde</td>\n",
       "      <td>[{'href': 'https://www.instagram.com/reel/DAep...</td>\n",
       "    </tr>\n",
       "    <tr>\n",
       "      <th>12</th>\n",
       "      <td>philzphotos</td>\n",
       "      <td>[{'href': 'https://www.instagram.com/reel/DAEJ...</td>\n",
       "    </tr>\n",
       "    <tr>\n",
       "      <th>13</th>\n",
       "      <td>kabirbhatiatime</td>\n",
       "      <td>[{'href': 'https://www.instagram.com/p/DAUX-c9...</td>\n",
       "    </tr>\n",
       "  </tbody>\n",
       "</table>\n",
       "</div>"
      ],
      "text/plain": [
       "              title                                   string_list_data\n",
       "0       philzphotos  [{'href': 'https://www.instagram.com/p/DNbPB16...\n",
       "1    weave_n_wonder  [{'href': 'https://www.instagram.com/reel/DNp7...\n",
       "2    weave_n_wonder  [{'href': 'https://www.instagram.com/reel/DNoJ...\n",
       "3       philzphotos  [{'href': 'https://www.instagram.com/p/DNQjPMY...\n",
       "4    weave_n_wonder  [{'href': 'https://www.instagram.com/p/DMiZKYt...\n",
       "5        nidhigoels  [{'href': 'https://www.instagram.com/p/DJiamRA...\n",
       "6      somosreedutt  [{'href': 'https://www.instagram.com/p/DJ7N-GJ...\n",
       "7       philzphotos  [{'href': 'https://www.instagram.com/p/DJzVepW...\n",
       "8       philzphotos  [{'href': 'https://www.instagram.com/p/DH9un-F...\n",
       "9       philzphotos  [{'href': 'https://www.instagram.com/p/DHUig05...\n",
       "10         urjya.co  [{'href': 'https://www.instagram.com/reel/DCVz...\n",
       "11     mauliksuchde  [{'href': 'https://www.instagram.com/reel/DAep...\n",
       "12      philzphotos  [{'href': 'https://www.instagram.com/reel/DAEJ...\n",
       "13  kabirbhatiatime  [{'href': 'https://www.instagram.com/p/DAUX-c9..."
      ]
     },
     "execution_count": 17,
     "metadata": {},
     "output_type": "execute_result"
    }
   ],
   "source": [
    "\n",
    "data_df = pd.DataFrame(data['likes_media_likes'])\n",
    "data_df.head(14)\n"
   ]
  },
  {
   "cell_type": "markdown",
   "id": "6d3e3546-ce66-4bc3-b24e-2bca8b127880",
   "metadata": {},
   "source": [
    "### Tidy Data"
   ]
  },
  {
   "cell_type": "code",
   "execution_count": 28,
   "id": "e0973f98-406a-42e2-9bb7-06b4b8e1d6c9",
   "metadata": {},
   "outputs": [
    {
     "data": {
      "text/html": [
       "<div>\n",
       "<style scoped>\n",
       "    .dataframe tbody tr th:only-of-type {\n",
       "        vertical-align: middle;\n",
       "    }\n",
       "\n",
       "    .dataframe tbody tr th {\n",
       "        vertical-align: top;\n",
       "    }\n",
       "\n",
       "    .dataframe thead th {\n",
       "        text-align: right;\n",
       "    }\n",
       "</style>\n",
       "<table border=\"1\" class=\"dataframe\">\n",
       "  <thead>\n",
       "    <tr style=\"text-align: right;\">\n",
       "      <th></th>\n",
       "      <th>title</th>\n",
       "      <th>like_timestamp</th>\n",
       "    </tr>\n",
       "  </thead>\n",
       "  <tbody>\n",
       "    <tr>\n",
       "      <th>0</th>\n",
       "      <td>philzphotos</td>\n",
       "      <td>1755861630</td>\n",
       "    </tr>\n",
       "    <tr>\n",
       "      <th>1</th>\n",
       "      <td>weave_n_wonder</td>\n",
       "      <td>1755861571</td>\n",
       "    </tr>\n",
       "    <tr>\n",
       "      <th>2</th>\n",
       "      <td>weave_n_wonder</td>\n",
       "      <td>1755861568</td>\n",
       "    </tr>\n",
       "    <tr>\n",
       "      <th>3</th>\n",
       "      <td>philzphotos</td>\n",
       "      <td>1755173316</td>\n",
       "    </tr>\n",
       "    <tr>\n",
       "      <th>4</th>\n",
       "      <td>weave_n_wonder</td>\n",
       "      <td>1753462673</td>\n",
       "    </tr>\n",
       "    <tr>\n",
       "      <th>5</th>\n",
       "      <td>nidhigoels</td>\n",
       "      <td>1748178260</td>\n",
       "    </tr>\n",
       "    <tr>\n",
       "      <th>6</th>\n",
       "      <td>somosreedutt</td>\n",
       "      <td>1748178257</td>\n",
       "    </tr>\n",
       "    <tr>\n",
       "      <th>7</th>\n",
       "      <td>philzphotos</td>\n",
       "      <td>1748178213</td>\n",
       "    </tr>\n",
       "    <tr>\n",
       "      <th>8</th>\n",
       "      <td>philzphotos</td>\n",
       "      <td>1744057150</td>\n",
       "    </tr>\n",
       "    <tr>\n",
       "      <th>9</th>\n",
       "      <td>philzphotos</td>\n",
       "      <td>1743338308</td>\n",
       "    </tr>\n",
       "    <tr>\n",
       "      <th>10</th>\n",
       "      <td>urjya.co</td>\n",
       "      <td>1732683813</td>\n",
       "    </tr>\n",
       "    <tr>\n",
       "      <th>11</th>\n",
       "      <td>mauliksuchde</td>\n",
       "      <td>1727870969</td>\n",
       "    </tr>\n",
       "    <tr>\n",
       "      <th>12</th>\n",
       "      <td>philzphotos</td>\n",
       "      <td>1727223009</td>\n",
       "    </tr>\n",
       "    <tr>\n",
       "      <th>13</th>\n",
       "      <td>kabirbhatiatime</td>\n",
       "      <td>1727222908</td>\n",
       "    </tr>\n",
       "  </tbody>\n",
       "</table>\n",
       "</div>"
      ],
      "text/plain": [
       "              title  like_timestamp\n",
       "0       philzphotos      1755861630\n",
       "1    weave_n_wonder      1755861571\n",
       "2    weave_n_wonder      1755861568\n",
       "3       philzphotos      1755173316\n",
       "4    weave_n_wonder      1753462673\n",
       "5        nidhigoels      1748178260\n",
       "6      somosreedutt      1748178257\n",
       "7       philzphotos      1748178213\n",
       "8       philzphotos      1744057150\n",
       "9       philzphotos      1743338308\n",
       "10         urjya.co      1732683813\n",
       "11     mauliksuchde      1727870969\n",
       "12      philzphotos      1727223009\n",
       "13  kabirbhatiatime      1727222908"
      ]
     },
     "execution_count": 28,
     "metadata": {},
     "output_type": "execute_result"
    }
   ],
   "source": [
    "data_df['like_timestamp'] = data_df['string_list_data'].apply(lambda x:x[0]['timestamp'])\n",
    "data_df[['title', 'like_timestamp']].head(14)"
   ]
  },
  {
   "cell_type": "code",
   "execution_count": 34,
   "id": "ae7ef7b1-218e-4320-a000-de2e3017606a",
   "metadata": {},
   "outputs": [
    {
     "data": {
      "text/html": [
       "<div>\n",
       "<style scoped>\n",
       "    .dataframe tbody tr th:only-of-type {\n",
       "        vertical-align: middle;\n",
       "    }\n",
       "\n",
       "    .dataframe tbody tr th {\n",
       "        vertical-align: top;\n",
       "    }\n",
       "\n",
       "    .dataframe thead th {\n",
       "        text-align: right;\n",
       "    }\n",
       "</style>\n",
       "<table border=\"1\" class=\"dataframe\">\n",
       "  <thead>\n",
       "    <tr style=\"text-align: right;\">\n",
       "      <th></th>\n",
       "      <th>title</th>\n",
       "      <th>like_count</th>\n",
       "    </tr>\n",
       "  </thead>\n",
       "  <tbody>\n",
       "    <tr>\n",
       "      <th>3</th>\n",
       "      <td>philzphotos</td>\n",
       "      <td>6</td>\n",
       "    </tr>\n",
       "    <tr>\n",
       "      <th>6</th>\n",
       "      <td>weave_n_wonder</td>\n",
       "      <td>3</td>\n",
       "    </tr>\n",
       "    <tr>\n",
       "      <th>0</th>\n",
       "      <td>kabirbhatiatime</td>\n",
       "      <td>1</td>\n",
       "    </tr>\n",
       "    <tr>\n",
       "      <th>1</th>\n",
       "      <td>mauliksuchde</td>\n",
       "      <td>1</td>\n",
       "    </tr>\n",
       "    <tr>\n",
       "      <th>2</th>\n",
       "      <td>nidhigoels</td>\n",
       "      <td>1</td>\n",
       "    </tr>\n",
       "    <tr>\n",
       "      <th>4</th>\n",
       "      <td>somosreedutt</td>\n",
       "      <td>1</td>\n",
       "    </tr>\n",
       "    <tr>\n",
       "      <th>5</th>\n",
       "      <td>urjya.co</td>\n",
       "      <td>1</td>\n",
       "    </tr>\n",
       "  </tbody>\n",
       "</table>\n",
       "</div>"
      ],
      "text/plain": [
       "             title  like_count\n",
       "3      philzphotos           6\n",
       "6   weave_n_wonder           3\n",
       "0  kabirbhatiatime           1\n",
       "1     mauliksuchde           1\n",
       "2       nidhigoels           1\n",
       "4     somosreedutt           1\n",
       "5         urjya.co           1"
      ]
     },
     "execution_count": 34,
     "metadata": {},
     "output_type": "execute_result"
    }
   ],
   "source": [
    "likes_by_account = data_df.groupby('title')['like_timestamp'].count()\n",
    "\n",
    "likes_by_account = likes_by_account.reset_index().rename(columns={'like_timestamp': 'like_count'})\n",
    "likes_by_account = likes_by_account.sort_values(by='like_count', ascending=False)\n",
    "\n",
    "likes_by_account.head(14)\n"
   ]
  },
  {
   "cell_type": "markdown",
   "id": "05edfa44-a0f8-4819-92ee-22eda56cd474",
   "metadata": {},
   "source": [
    "# Personal Facebook Hypothesis\n",
    "I receive more Facebook messages from friends on the weekends than the weekdays.\n",
    "\n",
    "## Theoretical Explanation\n",
    "Typically on the weekends people usually have more free time and participate in social activites. This fits with the social interaction theory which proposes communications from peers tend to increase during leisure periods. \n",
    "\n",
    "## Statistical Explanation\n",
    "This hypothesis can be measured by testing the timestamps of messages received in the Facebook message data. The dependant variable would be the Day Type (weekday vs weekend) The dependant variable would be the number of messages received.\n",
    "\n",
    "## Json File\n",
    "The your_in_app_messages_interactions.json will be useful as I think it will contain message content and timestamps of messages to test my hypothesis. \n"
   ]
  },
  {
   "cell_type": "markdown",
   "id": "8452378f-b0a6-4ca3-b279-6aebdede89ca",
   "metadata": {},
   "source": [
    "### Import statements"
   ]
  },
  {
   "cell_type": "code",
   "execution_count": 35,
   "id": "c9151c17-70c3-4e72-80ec-14391c10d56c",
   "metadata": {},
   "outputs": [],
   "source": [
    "import json\n",
    "import pandas as pd"
   ]
  },
  {
   "cell_type": "markdown",
   "id": "dc3d3d61-c7c4-43c9-878c-cd51a8984ed3",
   "metadata": {},
   "source": [
    "### Load chessbud data"
   ]
  },
  {
   "cell_type": "code",
   "execution_count": 42,
   "id": "1abc8db7-ac36-45bf-bfff-88daaa350c57",
   "metadata": {},
   "outputs": [],
   "source": [
    "path = r'messages/your_in-app_messages_interactions.json'\n",
    "with open(path) as j:\n",
    "     data = json.load(j)"
   ]
  },
  {
   "cell_type": "code",
   "execution_count": 72,
   "id": "6ba5498b-8d1f-4560-87fa-ac946f674ab4",
   "metadata": {},
   "outputs": [
    {
     "data": {
      "text/html": [
       "<div>\n",
       "<style scoped>\n",
       "    .dataframe tbody tr th:only-of-type {\n",
       "        vertical-align: middle;\n",
       "    }\n",
       "\n",
       "    .dataframe tbody tr th {\n",
       "        vertical-align: top;\n",
       "    }\n",
       "\n",
       "    .dataframe thead th {\n",
       "        text-align: right;\n",
       "    }\n",
       "</style>\n",
       "<table border=\"1\" class=\"dataframe\">\n",
       "  <thead>\n",
       "    <tr style=\"text-align: right;\">\n",
       "      <th></th>\n",
       "    </tr>\n",
       "  </thead>\n",
       "  <tbody>\n",
       "  </tbody>\n",
       "</table>\n",
       "</div>"
      ],
      "text/plain": [
       "Empty DataFrame\n",
       "Columns: []\n",
       "Index: []"
      ]
     },
     "execution_count": 72,
     "metadata": {},
     "output_type": "execute_result"
    }
   ],
   "source": [
    "records = []\n",
    "\n",
    "for entry in data:  \n",
    "    \n",
    "    for item in entry.get(\"messages\", []):\n",
    "        timestamp = None\n",
    "        sender = None\n",
    "        content = None\n",
    "\n",
    "        if \"timestamp_ms\" in item:\n",
    "            timestamp = datetime.fromtimestamp(item[\"timestamp_ms\"] / 1000)\n",
    "        if \"sender_name\" in item:\n",
    "            sender = item[\"sender_name\"]\n",
    "        if \"content\" in item:\n",
    "            content = item[\"content\"]\n",
    "\n",
    "        if timestamp:\n",
    "            records.append({\n",
    "                \"timestamp\": timestamp,\n",
    "                \"sender\": sender,\n",
    "                \"content\": content,\n",
    "                \"participants\": participants\n",
    "            })\n",
    "\n",
    "messages_df = pd.DataFrame(records)\n",
    "\n",
    "\n",
    "messages_df.head(10)"
   ]
  },
  {
   "cell_type": "markdown",
   "id": "ba19010d-471f-49a1-8f89-9ecbab2b98d0",
   "metadata": {},
   "source": [
    "# Final Conclusion\n",
    "\n",
    "As you can see my personal facebook is incomplete, I have done the step #9 on 'likes' report assignment page many times and cant seeem to get it right. It seems like everytime I use my own data and hypothesis I end up doing something wrong. I did you use your github & many other resources but I cant seem to get it right. I obviously understand points will be taken off but I wanted to given an explanation on why my code is unfinsihed.\n",
    "\n",
    "Since there is no visable data, I cannot make a final remark of my hypothesis.  "
   ]
  },
  {
   "cell_type": "code",
   "execution_count": null,
   "id": "b8157e99-f142-4861-96d6-3b80c509faa5",
   "metadata": {},
   "outputs": [],
   "source": []
  }
 ],
 "metadata": {
  "kernelspec": {
   "display_name": "Python 3 (ipykernel)",
   "language": "python",
   "name": "python3"
  },
  "language_info": {
   "codemirror_mode": {
    "name": "ipython",
    "version": 3
   },
   "file_extension": ".py",
   "mimetype": "text/x-python",
   "name": "python",
   "nbconvert_exporter": "python",
   "pygments_lexer": "ipython3",
   "version": "3.13.5"
  }
 },
 "nbformat": 4,
 "nbformat_minor": 5
}
