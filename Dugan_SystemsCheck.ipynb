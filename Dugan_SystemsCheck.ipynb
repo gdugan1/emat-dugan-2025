{
 "cells": [
  {
   "cell_type": "markdown",
   "id": "e48034f5-c48e-4abc-8d56-1aa98c3e6d77",
   "metadata": {},
   "source": [
    "# **Systems Check**"
   ]
  },
  {
   "cell_type": "markdown",
   "id": "aef4a982-37fc-4870-b265-d81bf83ec616",
   "metadata": {},
   "source": [
    "## *Gabriella Dugan*"
   ]
  },
  {
   "cell_type": "markdown",
   "id": "b0eca782-5796-405d-89e7-4e94c6638e4c",
   "metadata": {},
   "source": [
    "### My Class Goals:"
   ]
  },
  {
   "cell_type": "markdown",
   "id": "4d91ce99-3db3-4115-9102-98c5225685de",
   "metadata": {},
   "source": [
    "1. Fully understand how to use Anaconda & Jupyter Notebook\n",
    "2. Stay on top of work as this could get very complicated quickly \n",
    "3. Interpret, analyze, and explore data\n",
    "4. Work with real world data sets"
   ]
  },
  {
   "cell_type": "markdown",
   "id": "e6043980-9102-4b6c-82ed-ba3738cc6288",
   "metadata": {},
   "source": [
    "![Jupyter Logo](https://upload.wikimedia.org/wikipedia/commons/thumb/3/38/Jupyter_logo.svg/1200px-Jupyter_logo.svg.png)\n"
   ]
  }
 ],
 "metadata": {
  "kernelspec": {
   "display_name": "anaconda-2024.02-py310",
   "language": "python",
   "name": "conda-env-anaconda-2024.02-py310-py"
  },
  "language_info": {
   "codemirror_mode": {
    "name": "ipython",
    "version": 3
   },
   "file_extension": ".py",
   "mimetype": "text/x-python",
   "name": "python",
   "nbconvert_exporter": "python",
   "pygments_lexer": "ipython3",
   "version": "3.10.14"
  }
 },
 "nbformat": 4,
 "nbformat_minor": 5
}
